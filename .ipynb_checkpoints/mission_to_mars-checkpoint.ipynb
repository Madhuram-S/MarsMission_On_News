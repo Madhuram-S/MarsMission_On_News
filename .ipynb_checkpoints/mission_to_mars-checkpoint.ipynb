{
 "cells": [
  {
   "cell_type": "markdown",
   "metadata": {},
   "source": [
    "## Build Mars News website\n",
    "Goal is to build a web application that scrapes various websites for data related to the Mission to Mars and displays the information in a single HTML page. \n",
    "\n",
    "### Step1 - Scrape various NASA websites to obtain required Information\n",
    "\n",
    "This ipynb file contains the base code to generate scrape application (later converted to py file).\n",
    "\n",
    "Modules key to this program\n",
    "- Splinter - used for launching a new browser to open sites that have required information \n",
    "- BeautifulSoup - parses HTML page, finds the required information and returns the required text value\n",
    "- Requests - Library used for directly connecting with websites and downloading HTML content"
   ]
  },
  {
   "cell_type": "code",
   "execution_count": 1,
   "metadata": {},
   "outputs": [],
   "source": [
    "## IMPORT ALL REQUIRED DEPENDENCIES\n",
    "from splinter import Browser\n",
    "from bs4 import BeautifulSoup as bs\n",
    "import requests\n",
    "from requests import RequestException\n",
    "import time\n",
    "\n",
    "import pandas as pd"
   ]
  },
  {
   "cell_type": "markdown",
   "metadata": {},
   "source": [
    "### URLs / Websites the information will be obtained from"
   ]
  },
  {
   "cell_type": "code",
   "execution_count": 2,
   "metadata": {},
   "outputs": [],
   "source": [
    "#URLs to scrape / find information from \n",
    "nasa_news_url = \"https://mars.nasa.gov/news/\"\n",
    "#nasa_news_url = \"https://mars.nasa.gov/news/?page=0&per_page=40&order=publish_date+desc%2Ccreated_at+desc&search=&category=19%2C165%2C184%2C204&blank_scope=Latest\"\n",
    "jpl_imgs_url = \"https://www.jpl.nasa.gov/spaceimages/?search=&category=Mars\"\n",
    "jpl_imgs_server = \"https://www.jpl.nasa.gov\"\n",
    "\n",
    "twitter_mars_url = \"https://twitter.com/marswxreport?lang=en\"\n",
    "\n",
    "mars_fact_url = \"http://space-facts.com/mars/\"\n",
    "\n",
    "mars_astro_url = \"https://astrogeology.usgs.gov/search/results?q=hemisphere+enhanced&k1=target&v1=Mars\"\n",
    "mars_astro_server = \"https://astrogeology.usgs.gov\"\n",
    "\n",
    "# SCRAPE Status variables\n",
    "scrape_status = {\"status\" : True, \"scrape_error_msg\" : []}\n"
   ]
  },
  {
   "cell_type": "markdown",
   "metadata": {},
   "source": [
    "### Function to open browser for visiting websites"
   ]
  },
  {
   "cell_type": "code",
   "execution_count": 3,
   "metadata": {},
   "outputs": [],
   "source": [
    "# Global Functions\n",
    "def init_browser():\n",
    "    # @NOTE: Replace the path with your actual path to the chromedriver\n",
    "    executable_path = {\"executable_path\": \"E:/chromeDriver/chromedriver.exe\"}\n",
    "    return Browser(\"chrome\", **executable_path, headless=False)"
   ]
  },
  {
   "cell_type": "markdown",
   "metadata": {},
   "source": [
    "### Extract Mars related News Headline and News Subtext from the NASA news website"
   ]
  },
  {
   "cell_type": "code",
   "execution_count": 4,
   "metadata": {},
   "outputs": [],
   "source": [
    "### Get Latest News from NASA News website\n",
    "\n",
    "def get_latest_marsNews():\n",
    "    \n",
    "    news_title = \"\"\n",
    "    news_subtxt = \"\"\n",
    "    news_date = \"\"\n",
    "    \n",
    "    try:\n",
    "        with init_browser() as browser:\n",
    "            browser.visit(nasa_news_url)\n",
    "\n",
    "            time.sleep(1)\n",
    "\n",
    "            html = browser.html\n",
    "            # parse html file using BS4\n",
    "            mars_cnt = bs(html, \"html.parser\")\n",
    "        \n",
    "        #mars_cnt.prettify()\n",
    "        news_date = mars_cnt.find('div',class_=\"list_date\").text.strip()\n",
    "        news_title = mars_cnt.find(\"div\", class_= \"content_title\").a.text.strip()\n",
    "        #print(news_title)\n",
    "        news_subtxt = mars_cnt.find(\"div\", class_= \"rollover_description_inner\").text.strip()\n",
    "        #print(news_subtxt)\n",
    "\n",
    "        return (news_date, news_title, news_subtxt)           \n",
    "            \n",
    "        \n",
    "    except Exception as e:\n",
    "        scrape_status['status'] = False\n",
    "        scrape_status['scrape_error_msg'].append(\"Error@get_latest_news. Failed with reason %s\" % (repr(e)))\n",
    "        return (news_date,news_title, news_subtxt)"
   ]
  },
  {
   "cell_type": "code",
   "execution_count": 5,
   "metadata": {},
   "outputs": [],
   "source": [
    "#testing\n",
    "#get_latest_marsNews()"
   ]
  },
  {
   "cell_type": "code",
   "execution_count": 20,
   "metadata": {},
   "outputs": [],
   "source": [
    "# Get Latest Mars image from JP wesite\n",
    "def scrape_jps_image():\n",
    "    mars_img = \"\"\n",
    "    mars_img_desc = \"\"\n",
    "    mars_img_thumnail = \"\"\n",
    "    try:\n",
    "        with init_browser() as browser:\n",
    "        \n",
    "            browser.visit(jpl_imgs_url)            \n",
    "            \n",
    "\n",
    "            time.sleep(1)\n",
    "\n",
    "            # Scrape page into Soup\n",
    "            html = browser.html\n",
    "            img_cnt = bs(html, \"html.parser\")\n",
    "\n",
    "            # Get the div section that holds mars images\n",
    "            #mars_imgs = img_cnt.find(\"div\",class_ = \"image_and_description_container\").find(\"div\", class_=\"img\").img['src']\n",
    "\n",
    "            mars_imgs = img_cnt.find(\"li\",class_ = \"slide\")\n",
    "\n",
    "\n",
    "            mars_img = jpl_imgs_server+mars_imgs.a['data-fancybox-href']\n",
    "            mars_img_desc = mars_imgs.a['data-description']\n",
    "            mars_img_thumnail = jpl_imgs_server+mars_imgs.a['data-thumbnail']\n",
    "            mars_img_title = mars_imgs.a['data-title']\n",
    "\n",
    "            # Quite the browser after scraping\n",
    "            #browser.quit()\n",
    "\n",
    "            # Return results\n",
    "            return (mars_img, mars_img_desc, mars_img_thumnail, mars_img_title)\n",
    "            \n",
    "    except Exception as e:\n",
    "        scrape_status['status'] = False\n",
    "        scrape_status['scrape_error_msg'].append(\"Error@get_latest_image. Failed with reason %s\" % (repr(e)))\n",
    "        \n",
    "        return (mars_img, mars_img_desc,mars_img_thumnail, mars_img_title)"
   ]
  },
  {
   "cell_type": "code",
   "execution_count": 21,
   "metadata": {},
   "outputs": [
    {
     "data": {
      "text/plain": [
       "('https://www.jpl.nasa.gov/spaceimages/images/largesize/PIA23040_hires.jpg',\n",
       " 'This image from NASAs Mars Odyssey shows part of the floor of Marth Crater. Dark blue tones typically indicate basaltic sands.',\n",
       " 'https://www.jpl.nasa.gov/spaceimages/images/wallpaper/PIA23040-640x350.jpg')"
      ]
     },
     "execution_count": 21,
     "metadata": {},
     "output_type": "execute_result"
    }
   ],
   "source": [
    "#testing\n",
    "mars_img_link = scrape_jps_image()\n",
    "mars_img_link"
   ]
  },
  {
   "cell_type": "code",
   "execution_count": 16,
   "metadata": {},
   "outputs": [],
   "source": [
    "def get_latest_marsWeather():\n",
    "    mars_weather = \"\"\n",
    "    try:\n",
    "        #get html from NASA Twitter URL\n",
    "        twit_resp = requests.get(twitter_mars_url)\n",
    "        if(twit_resp.status_code == 200):\n",
    "            # parse html file using BS4\n",
    "            mars_wthr_twit = bs(twit_resp.content, \"lxml\")\n",
    "            #mars_wthr_twit.prettify()\n",
    "            wthr_twt = mars_wthr_twit.find(\"div\",{\"data-name\": \"Mars Weather\"},class_= \"tweet js-stream-tweet js-actionable-tweet js-profile-popup-actionable dismissible-content original-tweet js-original-tweet has-cards has-content\")\n",
    "            mars_weather = wthr_twt.p.text.strip()\n",
    "\n",
    "            mars_weather = mars_weather.rstrip(wthr_twt.p.a.text.strip())\n",
    "            #mars_weather = mars_weather.split(\"\\n\")[0]\n",
    "            mars_weather = mars_weather.replace(\"\\n\",\" \")\n",
    "            #mars_weather\n",
    "\n",
    "            return mars_weather\n",
    "            \n",
    "            \n",
    "        else:\n",
    "            raise RequestException\n",
    "    except requests.exceptions.RequestException as e:\n",
    "        scrape_status['status'] = False\n",
    "        scrape_status['scrape_error_msg'].append(\"Error@get_mars_weather. Failed with reason %s\" % (repr(e)))\n",
    "        return mars_weather"
   ]
  },
  {
   "cell_type": "code",
   "execution_count": 17,
   "metadata": {},
   "outputs": [
    {
     "data": {
      "text/plain": [
       "'InSight sol 84 (2019-02-20) low -95.1ºC (-139.2ºF) high -13.2ºC (8.3ºF) winds from the SW at 4.1 m/s (9.3 mph) gusting to 10.8 m/s (24.2 mph)'"
      ]
     },
     "execution_count": 17,
     "metadata": {},
     "output_type": "execute_result"
    }
   ],
   "source": [
    "#testing\n",
    "#get_latest_marsWeather()"
   ]
  },
  {
   "cell_type": "code",
   "execution_count": 10,
   "metadata": {},
   "outputs": [],
   "source": [
    "def get_mars_profile():\n",
    "    \n",
    "    mars_facts = pd.DataFrame()\n",
    "    \n",
    "    try:\n",
    "        \n",
    "        mars_facts = pd.read_html(mars_fact_url)[0]\n",
    "        \n",
    "        mars_facts.rename(columns = {0:\"Profile\",1:\"Value\"}, inplace = True)\n",
    "\n",
    "        mars_facts.set_index(\"Profile\",inplace = True)\n",
    "\n",
    "        return mars_facts\n",
    "    \n",
    "    except Exception as e:\n",
    "        scrape_status['status'] = False\n",
    "        scrape_status['scrape_error_msg'].append(\"Error@get_mars_profile. Failed with reason %s\" % (repr(e)))\n",
    "        \n",
    "        return mars_facts"
   ]
  },
  {
   "cell_type": "code",
   "execution_count": 57,
   "metadata": {},
   "outputs": [
    {
     "data": {
      "text/plain": [
       "'<table border=\"1\" class=\"dataframe\">\\n  <thead>\\n    <tr style=\"text-align: right;\">\\n      <th></th>\\n      <th>Value</th>\\n    </tr>\\n    <tr>\\n      <th>Profile</th>\\n      <th></th>\\n    </tr>\\n  </thead>\\n  <tbody>\\n    <tr>\\n      <th>Equatorial Diameter:</th>\\n      <td>6,792 km</td>\\n    </tr>\\n    <tr>\\n      <th>Polar Diameter:</th>\\n      <td>6,752 km</td>\\n    </tr>\\n    <tr>\\n      <th>Mass:</th>\\n      <td>6.42 x 10^23 kg (10.7% Earth)</td>\\n    </tr>\\n    <tr>\\n      <th>Moons:</th>\\n      <td>2 (Phobos &amp; Deimos)</td>\\n    </tr>\\n    <tr>\\n      <th>Orbit Distance:</th>\\n      <td>227,943,824 km (1.52 AU)</td>\\n    </tr>\\n    <tr>\\n      <th>Orbit Period:</th>\\n      <td>687 days (1.9 years)</td>\\n    </tr>\\n    <tr>\\n      <th>Surface Temperature:</th>\\n      <td>-153 to 20 °C</td>\\n    </tr>\\n    <tr>\\n      <th>First Record:</th>\\n      <td>2nd millennium BC</td>\\n    </tr>\\n    <tr>\\n      <th>Recorded By:</th>\\n      <td>Egyptian astronomers</td>\\n    </tr>\\n  </tbody>\\n</table>'"
      ]
     },
     "execution_count": 57,
     "metadata": {},
     "output_type": "execute_result"
    }
   ],
   "source": [
    "#testing\n",
    "#df = get_mars_profile()\n",
    "#df.to_html()\n",
    "\n"
   ]
  },
  {
   "cell_type": "code",
   "execution_count": 11,
   "metadata": {},
   "outputs": [],
   "source": [
    "def get_mars_hemis_imgs():\n",
    "    hemi_imgs = []\n",
    "    \n",
    "    try:\n",
    "        with init_browser() as browser:\n",
    "        \n",
    "            browser.visit(mars_astro_url)\n",
    "            \n",
    "            time.sleep(1)\n",
    "\n",
    "            # Scrape page into Soup\n",
    "            html = browser.html\n",
    "            astroPg = bs(html, \"html.parser\")\n",
    "\n",
    "            hemi_link = astroPg.find_all(\"h3\")\n",
    "\n",
    "            for hemi in hemi_link:\n",
    "                img_dict = {}\n",
    "                browser.click_link_by_partial_text(hemi.text)\n",
    "                time.sleep(2)\n",
    "\n",
    "                html = browser.html\n",
    "                imgPg = bs(html, \"lxml\")\n",
    "\n",
    "                img_dict['Title'] = hemi.text\n",
    "                img_dict['ImgURL'] = imgPg.find(\"div\", class_ = \"downloads\").a['href']\n",
    "\n",
    "                hemi_imgs.append(img_dict)\n",
    "                browser.click_link_by_partial_text(\"Back\")\n",
    "            \n",
    "    except Exception as e:\n",
    "        scrape_status['status'] = False\n",
    "        scrape_status['scrape_error_msg'].append(\"Error@get_mars_hemisphere. Failed with reason %s\" % (repr(e)))\n",
    "        \n",
    "\n",
    "    return hemi_imgs\n"
   ]
  },
  {
   "cell_type": "code",
   "execution_count": 16,
   "metadata": {},
   "outputs": [
    {
     "data": {
      "text/plain": [
       "[{'Title': 'Cerberus Hemisphere Enhanced',\n",
       "  'ImgURL': 'http://astropedia.astrogeology.usgs.gov/download/Mars/Viking/cerberus_enhanced.tif/full.jpg'},\n",
       " {'Title': 'Schiaparelli Hemisphere Enhanced',\n",
       "  'ImgURL': 'http://astropedia.astrogeology.usgs.gov/download/Mars/Viking/schiaparelli_enhanced.tif/full.jpg'},\n",
       " {'Title': 'Syrtis Major Hemisphere Enhanced',\n",
       "  'ImgURL': 'http://astropedia.astrogeology.usgs.gov/download/Mars/Viking/syrtis_major_enhanced.tif/full.jpg'},\n",
       " {'Title': 'Valles Marineris Hemisphere Enhanced',\n",
       "  'ImgURL': 'http://astropedia.astrogeology.usgs.gov/download/Mars/Viking/valles_marineris_enhanced.tif/full.jpg'}]"
      ]
     },
     "execution_count": 16,
     "metadata": {},
     "output_type": "execute_result"
    }
   ],
   "source": [
    "#testing\n",
    "#get_mars_hemis_imgs()"
   ]
  },
  {
   "cell_type": "code",
   "execution_count": 12,
   "metadata": {},
   "outputs": [],
   "source": [
    "def scrape():\n",
    "    mars_info = {}\n",
    "    mars_info['NewsDate'],mars_info['NewsTitle'],mars_info['News_subTitle'] = get_latest_marsNews()\n",
    "    mars_info['mars_LatestImg'],mars_info['mars_LatestImg_desc'], mars_info['mars_img_thumbnail'] = scrape_jps_image()\n",
    "    mars_info['mars_latestWthr'] = get_latest_marsWeather()\n",
    "    mars_info['mars_profile'] = get_mars_profile().to_html(header = False, border = 0, \\\n",
    "                                                            classes = ['table table-striped table-hover borderless'])\n",
    "    \n",
    "    mars_info['mars_hemis_imgs'] = get_mars_hemis_imgs()\n",
    "    \n",
    "    ## TEMPORARY USE - WHEN ASTROGEOLOGY SITE IS DOWN\n",
    "    #if(not mars_info['mars_hemis_imgs']):\n",
    "    #   mars_info['mars_hemis_imgs'] = [ { \"Title\" : \"Cerberus Hemisphere Enhanced\", \"ImgURL\" : \"https://astrogeology.usgs.gov/cache/images/cfa62af2557222a02478f1fcd781d445_cerberus_enhanced.tif_full.jpg\" }, \\\n",
    "    #                                    { \"Title\" : \"Schiaparelli Hemisphere Enhanced\", \"ImgURL\" : \"https://astrogeology.usgs.gov/cache/images/3cdd1cbf5e0813bba925c9030d13b62e_schiaparelli_enhanced.tif_full.jpg\" }, \\\n",
    "    #                                    { \"Title\" : \"Syrtis Major Hemisphere Enhanced\", \"ImgURL\" : \"https://astrogeology.usgs.gov/cache/images/ae209b4e408bb6c3e67b6af38168cf28_syrtis_major_enhanced.tif_full.jpg\" }, \\\n",
    "    #                                    { \"Title\" : \"Valles Marineris Hemisphere Enhanced\", \"ImgURL\" : \"https://astrogeology.usgs.gov/cache/images/7cf2da4bf549ed01c17f206327be4db7_valles_marineris_enhanced.tif_full.jpg\" } ]\n",
    "    \n",
    "\n",
    "    return (scrape_status,mars_info)"
   ]
  },
  {
   "cell_type": "code",
   "execution_count": 13,
   "metadata": {},
   "outputs": [
    {
     "data": {
      "text/plain": [
       "{'NewsDate': 'February 19, 2019',\n",
       " 'NewsTitle': 'InSight Is the Newest Mars Weather Service',\n",
       " 'News_subTitle': \"By collecting data around the clock, NASA's lander will provide unique science about the Martian surface.\",\n",
       " 'mars_LatestImg': 'https://www.jpl.nasa.gov/spaceimages/images/largesize/PIA23040_hires.jpg',\n",
       " 'mars_LatestImg_desc': 'This image from NASAs Mars Odyssey shows part of the floor of Marth Crater. Dark blue tones typically indicate basaltic sands.',\n",
       " 'mars_img_thumbnail': 'https://www.jpl.nasa.gov/spaceimages/images/wallpaper/PIA23040-640x350.jpg',\n",
       " 'mars_latestWthr': 'InSight sol 81 (2019-02-17), high -17/2F, low -95/-138F, pressure at 7.23hPa, winds from the WNW at 12 mph gusting to 37.8 mph',\n",
       " 'mars_profile': '<table border=\"0\" class=\"dataframe table table-striped table-hover borderless\">\\n  <tbody>\\n  </tbody>\\n</table>',\n",
       " 'mars_hemis_imgs': [{'Title': 'Cerberus Hemisphere Enhanced',\n",
       "   'ImgURL': 'http://astropedia.astrogeology.usgs.gov/download/Mars/Viking/cerberus_enhanced.tif/full.jpg'},\n",
       "  {'Title': 'Schiaparelli Hemisphere Enhanced',\n",
       "   'ImgURL': 'http://astropedia.astrogeology.usgs.gov/download/Mars/Viking/schiaparelli_enhanced.tif/full.jpg'},\n",
       "  {'Title': 'Syrtis Major Hemisphere Enhanced',\n",
       "   'ImgURL': 'http://astropedia.astrogeology.usgs.gov/download/Mars/Viking/syrtis_major_enhanced.tif/full.jpg'},\n",
       "  {'Title': 'Valles Marineris Hemisphere Enhanced',\n",
       "   'ImgURL': 'http://astropedia.astrogeology.usgs.gov/download/Mars/Viking/valles_marineris_enhanced.tif/full.jpg'}]}"
      ]
     },
     "execution_count": 13,
     "metadata": {},
     "output_type": "execute_result"
    }
   ],
   "source": [
    "sts, marsinfo = scrape()\n",
    "marsinfo "
   ]
  },
  {
   "cell_type": "code",
   "execution_count": 14,
   "metadata": {},
   "outputs": [
    {
     "data": {
      "text/plain": [
       "{'status': False,\n",
       " 'scrape_error_msg': [\"Error@get_mars_profile. Failed with reason <HTTPError 500: 'Internal Server Error'>\"]}"
      ]
     },
     "execution_count": 14,
     "metadata": {},
     "output_type": "execute_result"
    }
   ],
   "source": [
    "sts"
   ]
  },
  {
   "cell_type": "markdown",
   "metadata": {},
   "source": [
    "#### Output from scraping - saving it for future use incase of issues with websites\n",
    "{'NewsTitle': \"NASA's Opportunity Rover Mission on Mars Comes to End\",\n",
    " 'News_subTitle': \"NASA's Opportunity Mars rover mission is complete after 15 years on Mars. Opportunity's record-breaking exploration laid the groundwork for future missions to the Red Planet.\",\n",
    " 'mars_LatestImg': 'https://www.jpl.nasa.gov/spaceimages/images/largesize/PIA22928_hires.jpg',\n",
    " 'mars_LatestImg_desc': 'In this navigation camera raw image, NASAs Opportunity Rover looks back over its own tracks on Aug. 4, 2010.',\n",
    " 'mars_latestWthr': 'Sol 2319 (2019-02-13), high -17C/1F, low -72C/-97F, pressure at 8.12 hPa, daylight 06:46-18:52',\n",
    " 'mars_profile': ['<table border=\"1\" class=\"dataframe table table-striped\">\\n  <thead>\\n    <tr style=\"text-align: right;\">\\n      <th></th>\\n      <th>Value</th>\\n    </tr>\\n    <tr>\\n      <th>Profile_param</th>\\n      <th></th>\\n    </tr>\\n  </thead>\\n  <tbody>\\n    <tr>\\n      <th>Equatorial Diameter:</th>\\n      <td>6,792 km</td>\\n    </tr>\\n    <tr>\\n      <th>Polar Diameter:</th>\\n      <td>6,752 km</td>\\n    </tr>\\n    <tr>\\n      <th>Mass:</th>\\n      <td>6.42 x 10^23 kg (10.7% Earth)</td>\\n    </tr>\\n    <tr>\\n      <th>Moons:</th>\\n      <td>2 (Phobos &amp; Deimos)</td>\\n    </tr>\\n    <tr>\\n      <th>Orbit Distance:</th>\\n      <td>227,943,824 km (1.52 AU)</td>\\n    </tr>\\n    <tr>\\n      <th>Orbit Period:</th>\\n      <td>687 days (1.9 years)</td>\\n    </tr>\\n    <tr>\\n      <th>Surface Temperature:</th>\\n      <td>-153 to 20 °C</td>\\n    </tr>\\n    <tr>\\n      <th>First Record:</th>\\n      <td>2nd millennium BC</td>\\n    </tr>\\n    <tr>\\n      <th>Recorded By:</th>\\n      <td>Egyptian astronomers</td>\\n    </tr>\\n  </tbody>\\n</table>'],\n",
    " 'mars_hemis_imgs': [{'Title': 'Cerberus Hemisphere Enhanced',\n",
    "   'ImgURL': 'http://astropedia.astrogeology.usgs.gov/download/Mars/Viking/cerberus_enhanced.tif/full.jpg'},\n",
    "  {'Title': 'Schiaparelli Hemisphere Enhanced',\n",
    "   'ImgURL': 'http://astropedia.astrogeology.usgs.gov/download/Mars/Viking/schiaparelli_enhanced.tif/full.jpg'},\n",
    "  {'Title': 'Syrtis Major Hemisphere Enhanced',\n",
    "   'ImgURL': 'http://astropedia.astrogeology.usgs.gov/download/Mars/Viking/syrtis_major_enhanced.tif/full.jpg'},\n",
    "  {'Title': 'Valles Marineris Hemisphere Enhanced',\n",
    "   'ImgURL': 'http://astropedia.astrogeology.usgs.gov/download/Mars/Viking/valles_marineris_enhanced.tif/full.jpg'}]}"
   ]
  }
 ],
 "metadata": {
  "kernelspec": {
   "display_name": "Python 3",
   "language": "python",
   "name": "python3"
  },
  "language_info": {
   "codemirror_mode": {
    "name": "ipython",
    "version": 3
   },
   "file_extension": ".py",
   "mimetype": "text/x-python",
   "name": "python",
   "nbconvert_exporter": "python",
   "pygments_lexer": "ipython3",
   "version": "3.7.0"
  }
 },
 "nbformat": 4,
 "nbformat_minor": 2
}
